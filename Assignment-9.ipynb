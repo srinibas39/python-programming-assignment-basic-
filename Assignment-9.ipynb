{
 "cells": [
  {
   "cell_type": "code",
   "execution_count": 27,
   "metadata": {},
   "outputs": [],
   "source": [
    "def disarium(n):\n",
    "    sum=0\n",
    "    c=1\n",
    "    string_n=str(n)\n",
    "    for i in range(len(string_n)):\n",
    "        sum+=int(string_n[i])**c\n",
    "        c+=1\n",
    "    if sum==n:\n",
    "        print(\"Disarium no\")\n",
    "    else:\n",
    "        print(\"Not a Disarium no\")\n",
    "        \n",
    "        \n",
    "        "
   ]
  },
  {
   "cell_type": "code",
   "execution_count": 28,
   "metadata": {},
   "outputs": [
    {
     "name": "stdout",
     "output_type": "stream",
     "text": [
      "Not a Disarium no\n"
     ]
    }
   ],
   "source": [
    "disarium(100)"
   ]
  },
  {
   "cell_type": "code",
   "execution_count": 29,
   "metadata": {},
   "outputs": [
    {
     "name": "stdout",
     "output_type": "stream",
     "text": [
      "Disarium no\n"
     ]
    }
   ],
   "source": [
    "disarium(175)"
   ]
  },
  {
   "cell_type": "code",
   "execution_count": 34,
   "metadata": {},
   "outputs": [],
   "source": [
    "def disarium1_100():\n",
    "    for i in range(1,100):\n",
    "        sum=0\n",
    "        c=1\n",
    "        n=str(i)\n",
    "        for j in n:\n",
    "            sum+=int(j)**c\n",
    "            c+=1\n",
    "        if sum==i:\n",
    "            print(i,end=\",\")\n",
    "        \n",
    "        "
   ]
  },
  {
   "cell_type": "code",
   "execution_count": 35,
   "metadata": {},
   "outputs": [
    {
     "name": "stdout",
     "output_type": "stream",
     "text": [
      "1,2,3,4,5,6,7,8,9,89,"
     ]
    }
   ],
   "source": [
    "disarium1_100()"
   ]
  },
  {
   "cell_type": "code",
   "execution_count": 44,
   "metadata": {},
   "outputs": [],
   "source": [
    "def happy_no(n):\n",
    "    sum=0\n",
    "    sum1=0\n",
    "    s=str(n)\n",
    "    for i in s:\n",
    "        sum+=int(i)**2\n",
    "    for i in str(sum):\n",
    "        sum1+=int(i)\n",
    "    if sum1==1:\n",
    "        print(\"happy number\")\n",
    "    else:\n",
    "        print(\"Not a happy number\")"
   ]
  },
  {
   "cell_type": "code",
   "execution_count": 47,
   "metadata": {},
   "outputs": [
    {
     "name": "stdout",
     "output_type": "stream",
     "text": [
      "Not a happy number\n"
     ]
    }
   ],
   "source": [
    "happy_no(99)"
   ]
  },
  {
   "cell_type": "code",
   "execution_count": 48,
   "metadata": {},
   "outputs": [
    {
     "name": "stdout",
     "output_type": "stream",
     "text": [
      "happy number\n"
     ]
    }
   ],
   "source": [
    "happy_no(13)"
   ]
  },
  {
   "cell_type": "code",
   "execution_count": 80,
   "metadata": {},
   "outputs": [],
   "source": [
    "def happy_no1_100():\n",
    "    for i in range(1,101):\n",
    "        s=str(i)\n",
    "        sum=0\n",
    "        sum1=0\n",
    "        for j in s:\n",
    "            sum+=int(j)**2\n",
    "        for k in str(sum):\n",
    "            sum1+=int(k)\n",
    "        if sum1==1:\n",
    "            print(i,end=\" \")\n",
    "            \n",
    "            \n",
    "        "
   ]
  },
  {
   "cell_type": "code",
   "execution_count": 81,
   "metadata": {},
   "outputs": [
    {
     "name": "stdout",
     "output_type": "stream",
     "text": [
      "1 10 13 31 68 86 100 "
     ]
    }
   ],
   "source": [
    "happy_no1_100()"
   ]
  },
  {
   "cell_type": "code",
   "execution_count": 82,
   "metadata": {},
   "outputs": [],
   "source": [
    "def harshad(n):\n",
    "    s=str(n)\n",
    "    sum=0\n",
    "    for i in s:\n",
    "        sum+=int(i)\n",
    "    if n%sum==0:\n",
    "        print(\"harshad no\")\n",
    "    else:\n",
    "        print(\"Not a harshad no\")\n",
    "        \n"
   ]
  },
  {
   "cell_type": "code",
   "execution_count": 95,
   "metadata": {},
   "outputs": [
    {
     "name": "stdout",
     "output_type": "stream",
     "text": [
      "harshad no\n"
     ]
    }
   ],
   "source": [
    "harshad(6804)"
   ]
  },
  {
   "cell_type": "code",
   "execution_count": 128,
   "metadata": {},
   "outputs": [],
   "source": [
    "def prionic1_100():\n",
    "    product=1\n",
    "    for i in range(1,101):\n",
    "        product=(i*(i+1))\n",
    "        if product<=100:\n",
    "            print(product,end=\" \")"
   ]
  },
  {
   "cell_type": "code",
   "execution_count": 129,
   "metadata": {},
   "outputs": [
    {
     "name": "stdout",
     "output_type": "stream",
     "text": [
      "2 6 12 20 30 42 56 72 90 "
     ]
    }
   ],
   "source": [
    "prionic1_100()"
   ]
  }
 ],
 "metadata": {
  "kernelspec": {
   "display_name": "Python 3",
   "language": "python",
   "name": "python3"
  },
  "language_info": {
   "codemirror_mode": {
    "name": "ipython",
    "version": 3
   },
   "file_extension": ".py",
   "mimetype": "text/x-python",
   "name": "python",
   "nbconvert_exporter": "python",
   "pygments_lexer": "ipython3",
   "version": "3.7.6"
  }
 },
 "nbformat": 4,
 "nbformat_minor": 4
}
