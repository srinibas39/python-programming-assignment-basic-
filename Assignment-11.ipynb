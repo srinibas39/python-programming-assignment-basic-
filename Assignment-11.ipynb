{
 "cells": [
  {
   "cell_type": "code",
   "execution_count": 6,
   "metadata": {},
   "outputs": [],
   "source": [
    "def words_k(s,k):\n",
    "    result=str()\n",
    "    for i in s.split():\n",
    "        if len(i)>k:\n",
    "            result+=i+\" \"\n",
    "    print(result)         "
   ]
  },
  {
   "cell_type": "code",
   "execution_count": 7,
   "metadata": {},
   "outputs": [
    {
     "name": "stdout",
     "output_type": "stream",
     "text": [
      "Ineuron stack science course \n"
     ]
    }
   ],
   "source": [
    "words_k(\"Ineuron full stack data science course\",4)"
   ]
  },
  {
   "cell_type": "code",
   "execution_count": 16,
   "metadata": {},
   "outputs": [],
   "source": [
    "def remove_i(s,i):\n",
    "    s1=str()\n",
    "    s1=s[:i]+s[i+1:]\n",
    "    print(s1)\n",
    "            \n",
    "        "
   ]
  },
  {
   "cell_type": "code",
   "execution_count": 17,
   "metadata": {},
   "outputs": [
    {
     "name": "stdout",
     "output_type": "stream",
     "text": [
      "Ineuon is a startup\n"
     ]
    }
   ],
   "source": [
    "remove_i(\"Ineuron is a startup\",4)"
   ]
  },
  {
   "cell_type": "code",
   "execution_count": 46,
   "metadata": {},
   "outputs": [],
   "source": [
    "def string_split_join(s):\n",
    "    s1=str()\n",
    "    for i in s.split():\n",
    "        s1=i\n",
    "        print(s1)\n",
    "    print(s)\n",
    "        \n",
    "    \n",
    "    "
   ]
  },
  {
   "cell_type": "code",
   "execution_count": 47,
   "metadata": {},
   "outputs": [
    {
     "name": "stdout",
     "output_type": "stream",
     "text": [
      "Ineuron\n",
      "is\n",
      "a\n",
      "startup\n",
      "Ineuron is a startup\n"
     ]
    }
   ],
   "source": [
    "string_split_join(\"Ineuron is a startup\")"
   ]
  },
  {
   "cell_type": "code",
   "execution_count": 53,
   "metadata": {},
   "outputs": [],
   "source": [
    "def binary_string(s):\n",
    "    set1=set(s)\n",
    "    set2=set('0' '1')\n",
    "    if set1 == set2 or set1=={\"0\"}or set=={\"1\"}:\n",
    "        print(\"binary string\")\n",
    "    else:\n",
    "        print(\"Not a binary string\")"
   ]
  },
  {
   "cell_type": "code",
   "execution_count": 54,
   "metadata": {},
   "outputs": [
    {
     "name": "stdout",
     "output_type": "stream",
     "text": [
      "Not a binary string\n"
     ]
    }
   ],
   "source": [
    "binary_string(\"10102001011\")"
   ]
  },
  {
   "cell_type": "code",
   "execution_count": 55,
   "metadata": {},
   "outputs": [
    {
     "name": "stdout",
     "output_type": "stream",
     "text": [
      "binary string\n"
     ]
    }
   ],
   "source": [
    "binary_string(\"10101001011\")"
   ]
  },
  {
   "cell_type": "code",
   "execution_count": 67,
   "metadata": {},
   "outputs": [],
   "source": [
    "def uncommon_words(s1,s2):\n",
    "    s={}\n",
    "    result=str()\n",
    "    for i in s1.split():\n",
    "        s[i]=s.get(i,0)+1\n",
    "    for j in s2.split():\n",
    "        s[j]=s.get(j,0)+1\n",
    "    for i in s:\n",
    "        if s[i]==1:\n",
    "            result+=i+\" \"\n",
    "    print(result)        \n",
    "        \n",
    "        \n",
    "                \n",
    "                \n",
    "\n",
    "                "
   ]
  },
  {
   "cell_type": "code",
   "execution_count": 68,
   "metadata": {},
   "outputs": [
    {
     "name": "stdout",
     "output_type": "stream",
     "text": [
      "machine Deep \n"
     ]
    }
   ],
   "source": [
    "uncommon_words(\"Ineuron has a machine learning course\",\"Ineuron has a Deep learning course\")"
   ]
  },
  {
   "cell_type": "code",
   "execution_count": 74,
   "metadata": {},
   "outputs": [],
   "source": [
    "def find_duplicate(s):\n",
    "    new=str()\n",
    "    dict_s={}\n",
    "    for i in s.split():\n",
    "        dict_s[i]=dict_s.get(i,0)+1\n",
    "    for i in dict_s:\n",
    "        if dict_s[i]>1:\n",
    "            new+=i+\" \"\n",
    "    print(new)        "
   ]
  },
  {
   "cell_type": "code",
   "execution_count": 75,
   "metadata": {},
   "outputs": [
    {
     "name": "stdout",
     "output_type": "stream",
     "text": [
      "Ineuron has a learning course \n"
     ]
    }
   ],
   "source": [
    "find_duplicate(\"Ineuron has a machine learning course Ineuron has a Deep learning course\")"
   ]
  },
  {
   "cell_type": "code",
   "execution_count": 91,
   "metadata": {},
   "outputs": [],
   "source": [
    "def special_char(s):\n",
    "    special=\"!@#$%^&*-_\"\n",
    "    if any(i in special for i in s):        \n",
    "        print(\"string has special characters\")\n",
    "    else:\n",
    "        print(\"string does not have special characters\")\n",
    "        "
   ]
  },
  {
   "cell_type": "code",
   "execution_count": 93,
   "metadata": {},
   "outputs": [
    {
     "name": "stdout",
     "output_type": "stream",
     "text": [
      "string does not have special characters\n"
     ]
    }
   ],
   "source": [
    "special_char(\"Ineuron has a machine learning course Ineuron has a Deep learning course\")"
   ]
  },
  {
   "cell_type": "code",
   "execution_count": 94,
   "metadata": {},
   "outputs": [
    {
     "name": "stdout",
     "output_type": "stream",
     "text": [
      "string has special characters\n"
     ]
    }
   ],
   "source": [
    "special_char(\"$Ineuron$ has&& a machine#### learning course Ineuron has a Deep learning course\")"
   ]
  },
  {
   "cell_type": "code",
   "execution_count": null,
   "metadata": {},
   "outputs": [],
   "source": []
  }
 ],
 "metadata": {
  "kernelspec": {
   "display_name": "Python 3",
   "language": "python",
   "name": "python3"
  },
  "language_info": {
   "codemirror_mode": {
    "name": "ipython",
    "version": 3
   },
   "file_extension": ".py",
   "mimetype": "text/x-python",
   "name": "python",
   "nbconvert_exporter": "python",
   "pygments_lexer": "ipython3",
   "version": "3.7.6"
  }
 },
 "nbformat": 4,
 "nbformat_minor": 4
}
