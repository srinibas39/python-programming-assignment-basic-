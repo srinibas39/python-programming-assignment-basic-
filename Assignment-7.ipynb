{
 "cells": [
  {
   "cell_type": "code",
   "execution_count": 19,
   "metadata": {},
   "outputs": [
    {
     "name": "stdout",
     "output_type": "stream",
     "text": [
      "16\n"
     ]
    }
   ],
   "source": [
    "def list_sum(l):\n",
    "    sum=0\n",
    "    for i in l:\n",
    "        sum+=i\n",
    "    print(sum) \n",
    "list_sum([1,2,3,4,6])"
   ]
  },
  {
   "cell_type": "code",
   "execution_count": 35,
   "metadata": {},
   "outputs": [
    {
     "name": "stdout",
     "output_type": "stream",
     "text": [
      "99\n"
     ]
    }
   ],
   "source": [
    "def list_largest_ele(l):\n",
    "    largest=-99999999999\n",
    "    for i in range(1,len(l)):\n",
    "        if l[i]>l[i-1] :\n",
    "            largest=l[i]\n",
    "            \n",
    "        elif l[i]>largest:\n",
    "            largest=l[i]\n",
    "    print(largest)\n",
    "list_largest_ele([14,32,64,33,99])"
   ]
  },
  {
   "cell_type": "code",
   "execution_count": 72,
   "metadata": {},
   "outputs": [
    {
     "name": "stdout",
     "output_type": "stream",
     "text": [
      "original [1, 2, 3, 4, 5]\n",
      "rotated  [3, 4, 5, 1, 2]\n"
     ]
    }
   ],
   "source": [
    "def arr_rotation(l,r):\n",
    "    original=l[:]\n",
    "    temp=l[0:r]\n",
    "    i=0\n",
    "    while r<len(l):\n",
    "        l[i]=l[r]\n",
    "        r+=1\n",
    "        i+=1\n",
    "    l[:]=l[:i]+temp[:]\n",
    "    print(\"original\",original)\n",
    "    print(\"rotated \",l)\n",
    "    \n",
    "    \n",
    "arr_rotation([1,2,3,4,5],2)    \n",
    "    "
   ]
  },
  {
   "cell_type": "code",
   "execution_count": 76,
   "metadata": {},
   "outputs": [
    {
     "name": "stdout",
     "output_type": "stream",
     "text": [
      "original [1, 2, 3, 4, 5]\n",
      "spilited [4, 5, 1, 2, 3]\n"
     ]
    }
   ],
   "source": [
    "def split_array(l,r):\n",
    "    original=l[:]\n",
    "    temp=l[0:r]\n",
    "    i=0\n",
    "    while r<len(l):\n",
    "        l[i]=l[r]\n",
    "        r+=1\n",
    "        i+=1\n",
    "    l[:]=l[:i]+temp[:]\n",
    "    print(\"original\",original)\n",
    "    print(\"spilited\",l)\n",
    "    \n",
    "    \n",
    "split_array([1,2,3,4,5],3)    \n",
    "    \n",
    "    "
   ]
  },
  {
   "cell_type": "code",
   "execution_count": 59,
   "metadata": {},
   "outputs": [],
   "source": [
    "def monotonic(l):\n",
    "    return (all(l[i]<=l[i+1] for i in range(len(l)-1)) or all(l[i]>=l[i+1] for i in range(len(l)-1)))\n",
    "            \n",
    "        "
   ]
  },
  {
   "cell_type": "code",
   "execution_count": 62,
   "metadata": {},
   "outputs": [
    {
     "data": {
      "text/plain": [
       "True"
      ]
     },
     "execution_count": 62,
     "metadata": {},
     "output_type": "execute_result"
    }
   ],
   "source": [
    "monotonic([5,4,3,2,1])"
   ]
  },
  {
   "cell_type": "code",
   "execution_count": 63,
   "metadata": {},
   "outputs": [
    {
     "data": {
      "text/plain": [
       "True"
      ]
     },
     "execution_count": 63,
     "metadata": {},
     "output_type": "execute_result"
    }
   ],
   "source": [
    "monotonic([1,2,3,4,5])"
   ]
  },
  {
   "cell_type": "code",
   "execution_count": 64,
   "metadata": {},
   "outputs": [
    {
     "data": {
      "text/plain": [
       "False"
      ]
     },
     "execution_count": 64,
     "metadata": {},
     "output_type": "execute_result"
    }
   ],
   "source": [
    "monotonic([1,2,3,17,5])"
   ]
  },
  {
   "cell_type": "code",
   "execution_count": null,
   "metadata": {},
   "outputs": [],
   "source": []
  }
 ],
 "metadata": {
  "kernelspec": {
   "display_name": "Python 3",
   "language": "python",
   "name": "python3"
  },
  "language_info": {
   "codemirror_mode": {
    "name": "ipython",
    "version": 3
   },
   "file_extension": ".py",
   "mimetype": "text/x-python",
   "name": "python",
   "nbconvert_exporter": "python",
   "pygments_lexer": "ipython3",
   "version": "3.7.6"
  }
 },
 "nbformat": 4,
 "nbformat_minor": 4
}
