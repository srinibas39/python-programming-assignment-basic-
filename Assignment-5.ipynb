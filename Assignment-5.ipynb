{
 "cells": [
  {
   "cell_type": "code",
   "execution_count": 3,
   "metadata": {},
   "outputs": [
    {
     "name": "stdout",
     "output_type": "stream",
     "text": [
      "10\n",
      "20\n",
      "LCM= 20\n"
     ]
    }
   ],
   "source": [
    "n1=int(input())\n",
    "n2=int(input())\n",
    "maxi=max(n1,n2)\n",
    "while(True):\n",
    "    if maxi%n1==0 and maxi%n2==0:\n",
    "        print(\"LCM=\",maxi)\n",
    "        break\n",
    "    maxi+=1\n",
    "            \n",
    "            "
   ]
  },
  {
   "cell_type": "code",
   "execution_count": 17,
   "metadata": {},
   "outputs": [
    {
     "name": "stdout",
     "output_type": "stream",
     "text": [
      "45\n",
      "90\n",
      "HCF= 45\n"
     ]
    }
   ],
   "source": [
    "n1=int(input())\n",
    "n2=int(input())\n",
    "mini=min(n1,n2)\n",
    "i=2\n",
    "while(mini>=i):\n",
    "    if n1%mini==0 and n2%mini==0:\n",
    "        print(\"HCF=\",mini)\n",
    "        break\n",
    "    mini-=1\n",
    "else:\n",
    "    print(\"HCF=\",1)\n"
   ]
  },
  {
   "cell_type": "code",
   "execution_count": 24,
   "metadata": {},
   "outputs": [],
   "source": [
    "def dec2all(decimal):\n",
    "    return \"{0:b}\".format(int(decimal)),\"{0:o}\".format(int(decimal)),\"{0:x}\".format(int(decimal))"
   ]
  },
  {
   "cell_type": "code",
   "execution_count": 25,
   "metadata": {},
   "outputs": [
    {
     "data": {
      "text/plain": [
       "('11000', '30', '18')"
      ]
     },
     "execution_count": 25,
     "metadata": {},
     "output_type": "execute_result"
    }
   ],
   "source": [
    "dec2all(24)"
   ]
  },
  {
   "cell_type": "code",
   "execution_count": 26,
   "metadata": {},
   "outputs": [],
   "source": [
    "def ASCII(char):\n",
    "    return ord(char)"
   ]
  },
  {
   "cell_type": "code",
   "execution_count": 29,
   "metadata": {},
   "outputs": [
    {
     "data": {
      "text/plain": [
       "65"
      ]
     },
     "execution_count": 29,
     "metadata": {},
     "output_type": "execute_result"
    }
   ],
   "source": [
    "ASCII(\"A\")"
   ]
  },
  {
   "cell_type": "code",
   "execution_count": 30,
   "metadata": {},
   "outputs": [],
   "source": [
    "def calculator(n1,n2):\n",
    "    print(\"operation you want to perform\")\n",
    "    c=input()\n",
    "    if c is \"+\":\n",
    "        return n1+n2\n",
    "    elif c is \"-\":\n",
    "        return abs(n1-n2)\n",
    "    elif c is \"*\":\n",
    "        return n1*n2\n",
    "    elif c is \"/\":\n",
    "        return n1/n2\n",
    "        "
   ]
  },
  {
   "cell_type": "code",
   "execution_count": 32,
   "metadata": {},
   "outputs": [
    {
     "name": "stdout",
     "output_type": "stream",
     "text": [
      "operation you want to perform\n",
      "+\n"
     ]
    },
    {
     "data": {
      "text/plain": [
       "28"
      ]
     },
     "execution_count": 32,
     "metadata": {},
     "output_type": "execute_result"
    }
   ],
   "source": [
    "calculator(21,7)"
   ]
  }
 ],
 "metadata": {
  "kernelspec": {
   "display_name": "Python 3",
   "language": "python",
   "name": "python3"
  }
 },
 "nbformat": 4,
 "nbformat_minor": 4
}
