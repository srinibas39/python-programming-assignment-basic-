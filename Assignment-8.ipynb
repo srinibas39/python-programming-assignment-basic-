{
 "cells": [
  {
   "cell_type": "code",
   "execution_count": 8,
   "metadata": {},
   "outputs": [],
   "source": [
    "def add_2_matrix(l1,l2):\n",
    "    add=[[0,0],[0,0],[0,0]]\n",
    "    for i in range(len(l1)):\n",
    "        for j in range(len(l1[0])):\n",
    "            add[i][j]=l1[i][j]+l2[i][j]\n",
    "    for i in range(len(add)):\n",
    "        print(add)\n",
    "   \n",
    "        \n",
    "            "
   ]
  },
  {
   "cell_type": "code",
   "execution_count": 17,
   "metadata": {},
   "outputs": [
    {
     "name": "stdout",
     "output_type": "stream",
     "text": [
      "[[9, 7], [6, 8], [10, 12]]\n",
      "[[9, 7], [6, 8], [10, 12]]\n",
      "[[9, 7], [6, 8], [10, 12]]\n"
     ]
    }
   ],
   "source": [
    "add_2_matrix([[1,2],[3,4],[5,6]],[[8,5],[3,4],[5,6]])"
   ]
  },
  {
   "cell_type": "code",
   "execution_count": 6,
   "metadata": {},
   "outputs": [],
   "source": [
    "def mul_2_matrix(l1,l2):\n",
    "    product=[[0,0,0],[0,0,0],[0,0,0]]\n",
    "    for i in range(len(l1)):\n",
    "        for j in range(len(l1[0])):\n",
    "            for k in range(len(l1)):\n",
    "                product[i][j]+=l1[i][k]*l2[k][j]\n",
    "        \n",
    "    for i in product:\n",
    "        print(product)\n",
    "            "
   ]
  },
  {
   "cell_type": "code",
   "execution_count": 5,
   "metadata": {},
   "outputs": [
    {
     "name": "stdout",
     "output_type": "stream",
     "text": [
      "[[6, 12, 18], [6, 12, 18], [6, 12, 18]]\n",
      "[[6, 12, 18], [6, 12, 18], [6, 12, 18]]\n",
      "[[6, 12, 18], [6, 12, 18], [6, 12, 18]]\n"
     ]
    }
   ],
   "source": [
    "mul_2_matrix([[1,2,3],[1,2,3],[1,2,3]],[[1,2,3],[1,2,3],[1,2,3]])"
   ]
  },
  {
   "cell_type": "code",
   "execution_count": 9,
   "metadata": {},
   "outputs": [],
   "source": [
    "def Transpose(l):\n",
    "    T=[[0,0,0],[0,0,0],[0,0,0]]\n",
    "    for i in range(len(l)):\n",
    "        for j in range(len(l[0])):\n",
    "            T[i][j]=l[j][i]\n",
    "    for i in T:\n",
    "        print(i)\n",
    "           "
   ]
  },
  {
   "cell_type": "code",
   "execution_count": 10,
   "metadata": {},
   "outputs": [
    {
     "name": "stdout",
     "output_type": "stream",
     "text": [
      "[1, 4, 7]\n",
      "[2, 5, 8]\n",
      "[3, 6, 9]\n"
     ]
    }
   ],
   "source": [
    "Transpose([[1,2,3],\n",
    "           [4,5,6],\n",
    "           [7,8,9]])"
   ]
  },
  {
   "cell_type": "code",
   "execution_count": 144,
   "metadata": {},
   "outputs": [],
   "source": [
    "def alphabet_order(s):\n",
    "    return(\"\".join(sorted(s)))"
   ]
  },
  {
   "cell_type": "code",
   "execution_count": 146,
   "metadata": {},
   "outputs": [
    {
     "data": {
      "text/plain": [
       "'einnoru'"
      ]
     },
     "execution_count": 146,
     "metadata": {},
     "output_type": "execute_result"
    }
   ],
   "source": [
    "alphabet_order(\"ineuron\")"
   ]
  },
  {
   "cell_type": "code",
   "execution_count": 71,
   "metadata": {},
   "outputs": [],
   "source": [
    "def remove_punctuations(s):\n",
    "    new_s=\"\"\n",
    "    punctuation='''!()-[]{};:'\"\\,<>./?@#$%^&*_~'''\n",
    "    for i in s:\n",
    "        if i not in punctuation:\n",
    "            new_s+=i\n",
    "    print(new_s)        "
   ]
  },
  {
   "cell_type": "code",
   "execution_count": 72,
   "metadata": {},
   "outputs": [
    {
     "name": "stdout",
     "output_type": "stream",
     "text": [
      "Ineuron my name is srinibas khuntia\n"
     ]
    }
   ],
   "source": [
    "remove_punctuations(\"Ineuron! my name is srinibas ,khuntia.\")"
   ]
  },
  {
   "cell_type": "code",
   "execution_count": null,
   "metadata": {},
   "outputs": [],
   "source": []
  }
 ],
 "metadata": {
  "kernelspec": {
   "display_name": "Python 3",
   "language": "python",
   "name": "python3"
  },
  "language_info": {
   "codemirror_mode": {
    "name": "ipython",
    "version": 3
   },
   "file_extension": ".py",
   "mimetype": "text/x-python",
   "name": "python",
   "nbconvert_exporter": "python",
   "pygments_lexer": "ipython3",
   "version": "3.7.6"
  }
 },
 "nbformat": 4,
 "nbformat_minor": 4
}
